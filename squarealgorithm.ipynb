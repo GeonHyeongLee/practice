{
 "cells": [
  {
   "cell_type": "code",
   "execution_count": 19,
   "id": "28a062d5-d481-4509-a854-d7e1d6611b58",
   "metadata": {},
   "outputs": [
    {
     "name": "stdin",
     "output_type": "stream",
     "text": [
      " 1\n"
     ]
    },
    {
     "name": "stdout",
     "output_type": "stream",
     "text": [
      "9\n"
     ]
    }
   ],
   "source": [
    "import sys\n",
    "import math\n",
    "\n",
    "n = int(input())\n",
    "m = [0] * 15\n",
    "\n",
    "def square(n):\n",
    "    if n == 0:\n",
    "        return 1\n",
    "    elif n == 1:\n",
    "        return 3\n",
    "    m[0] = 1\n",
    "    m[1] = 3\n",
    "    m[n] = square(n-1) * 2 - 1\n",
    "    return m[n]\n",
    "    \n",
    "result = square(n)\n",
    "\n",
    "print(result * result)\n",
    "#1 3 5 9 17 33\n",
    "\n",
    "# n = 4\n",
    "# sqsaure(4) = square(3) * 2 - 1 = (sqaure(2) * 2 - 1) * 2 -1 "
   ]
  },
  {
   "cell_type": "code",
   "execution_count": null,
   "id": "42ace1ef-4c77-4c6a-bc7e-c6d382cca522",
   "metadata": {},
   "outputs": [],
   "source": []
  }
 ],
 "metadata": {
  "kernelspec": {
   "display_name": "Python 3 (ipykernel)",
   "language": "python",
   "name": "python3"
  },
  "language_info": {
   "codemirror_mode": {
    "name": "ipython",
    "version": 3
   },
   "file_extension": ".py",
   "mimetype": "text/x-python",
   "name": "python",
   "nbconvert_exporter": "python",
   "pygments_lexer": "ipython3",
   "version": "3.12.4"
  }
 },
 "nbformat": 4,
 "nbformat_minor": 5
}
